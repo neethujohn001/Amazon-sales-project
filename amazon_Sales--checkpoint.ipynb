{
 "cells": [
  {
   "cell_type": "code",
   "execution_count": 2,
   "id": "a026763f",
   "metadata": {},
   "outputs": [],
   "source": [
    "import numpy as np\n",
    "import pandas as pd\n",
    "import pyodbc\n",
    "import matplotlib.pyplot as plt\n",
    "import seaborn as sns\n",
    "import warnings\n",
    "warnings.filterwarnings('ignore')"
   ]
  },
  {
   "cell_type": "code",
   "execution_count": 3,
   "id": "3adea550",
   "metadata": {},
   "outputs": [
    {
     "name": "stdout",
     "output_type": "stream",
     "text": [
      "{'MS Access Database': 'Microsoft Access Driver (*.mdb, *.accdb)', 'Excel Files': 'Microsoft Excel Driver (*.xls, *.xlsx, *.xlsm, *.xlsb)', 'SQL SERVER': 'SQL Server'}\n"
     ]
    }
   ],
   "source": [
    "print(pyodbc.dataSources())"
   ]
  },
  {
   "cell_type": "code",
   "execution_count": 4,
   "id": "7f0a6a78",
   "metadata": {},
   "outputs": [],
   "source": [
    "conn=pyodbc.connect(\n",
    "\"Driver=SQL Server Native Client 11.0;\"\n",
    "\"Server=LAPTOP-F9HKH3RJ\\SQLEXPRESS;\"\n",
    "\"Database=sales1;\"\n",
    "\"Trusted_Connection=yes;\"\n",
    ")"
   ]
  },
  {
   "cell_type": "code",
   "execution_count": 5,
   "id": "0cf2dfdf",
   "metadata": {},
   "outputs": [
    {
     "data": {
      "text/plain": [
       "<pyodbc.Connection at 0x1d81a601620>"
      ]
     },
     "execution_count": 5,
     "metadata": {},
     "output_type": "execute_result"
    }
   ],
   "source": [
    "conn"
   ]
  },
  {
   "cell_type": "code",
   "execution_count": 6,
   "id": "fb7d1178",
   "metadata": {},
   "outputs": [
    {
     "name": "stdout",
     "output_type": "stream",
     "text": [
      "['salesrecords']\n"
     ]
    }
   ],
   "source": [
    "query=\"SELECT TABLE_NAME FROM INFORMATION_SCHEMA.TABLES WHERE TABLE_TYPE='BASE TABLE'\"\n",
    "tables_df = pd.read_sql_query(query, conn)\n",
    "print(tables_df['TABLE_NAME'].tolist())"
   ]
  },
  {
   "cell_type": "code",
   "execution_count": 7,
   "id": "9610e0bb",
   "metadata": {},
   "outputs": [
    {
     "data": {
      "text/html": [
       "<div>\n",
       "<style scoped>\n",
       "    .dataframe tbody tr th:only-of-type {\n",
       "        vertical-align: middle;\n",
       "    }\n",
       "\n",
       "    .dataframe tbody tr th {\n",
       "        vertical-align: top;\n",
       "    }\n",
       "\n",
       "    .dataframe thead th {\n",
       "        text-align: right;\n",
       "    }\n",
       "</style>\n",
       "<table border=\"1\" class=\"dataframe\">\n",
       "  <thead>\n",
       "    <tr style=\"text-align: right;\">\n",
       "      <th></th>\n",
       "      <th>Region</th>\n",
       "      <th>Country</th>\n",
       "      <th>Item_Type</th>\n",
       "      <th>Sales_Channel</th>\n",
       "      <th>Order_Priority</th>\n",
       "      <th>Order_Date</th>\n",
       "      <th>Order_ID</th>\n",
       "      <th>Ship_Date</th>\n",
       "      <th>Units_Sold</th>\n",
       "      <th>Unit_Price</th>\n",
       "      <th>Unit_Cost</th>\n",
       "      <th>Total_Revenue</th>\n",
       "      <th>Total_Cost</th>\n",
       "      <th>Total_Profit</th>\n",
       "    </tr>\n",
       "  </thead>\n",
       "  <tbody>\n",
       "    <tr>\n",
       "      <th>0</th>\n",
       "      <td>Australia and Oceania</td>\n",
       "      <td>Tuvalu</td>\n",
       "      <td>Baby Food</td>\n",
       "      <td>Offline</td>\n",
       "      <td>H</td>\n",
       "      <td>5/28/2010</td>\n",
       "      <td>669165933</td>\n",
       "      <td>6/27/2010</td>\n",
       "      <td>9925</td>\n",
       "      <td>255.28</td>\n",
       "      <td>159.42</td>\n",
       "      <td>2533654.00</td>\n",
       "      <td>1582243.50</td>\n",
       "      <td>951410.50</td>\n",
       "    </tr>\n",
       "    <tr>\n",
       "      <th>1</th>\n",
       "      <td>Central America and the Caribbean</td>\n",
       "      <td>Grenada</td>\n",
       "      <td>Cereal</td>\n",
       "      <td>Online</td>\n",
       "      <td>C</td>\n",
       "      <td>8/22/2012</td>\n",
       "      <td>963881480</td>\n",
       "      <td>9/15/2012</td>\n",
       "      <td>2804</td>\n",
       "      <td>205.70</td>\n",
       "      <td>117.11</td>\n",
       "      <td>576782.80</td>\n",
       "      <td>328376.44</td>\n",
       "      <td>248406.36</td>\n",
       "    </tr>\n",
       "    <tr>\n",
       "      <th>2</th>\n",
       "      <td>Europe</td>\n",
       "      <td>Russia</td>\n",
       "      <td>Office Supplies</td>\n",
       "      <td>Offline</td>\n",
       "      <td>L</td>\n",
       "      <td>5/2/2014</td>\n",
       "      <td>341417157</td>\n",
       "      <td>5/8/2014</td>\n",
       "      <td>1779</td>\n",
       "      <td>651.21</td>\n",
       "      <td>524.96</td>\n",
       "      <td>1158502.59</td>\n",
       "      <td>933903.84</td>\n",
       "      <td>224598.75</td>\n",
       "    </tr>\n",
       "    <tr>\n",
       "      <th>3</th>\n",
       "      <td>Sub-Saharan Africa</td>\n",
       "      <td>Sao Tome and Principe</td>\n",
       "      <td>Fruits</td>\n",
       "      <td>Online</td>\n",
       "      <td>C</td>\n",
       "      <td>6/20/2014</td>\n",
       "      <td>514321792</td>\n",
       "      <td>7/5/2014</td>\n",
       "      <td>8102</td>\n",
       "      <td>9.33</td>\n",
       "      <td>6.92</td>\n",
       "      <td>75591.66</td>\n",
       "      <td>56065.84</td>\n",
       "      <td>19525.82</td>\n",
       "    </tr>\n",
       "    <tr>\n",
       "      <th>4</th>\n",
       "      <td>Sub-Saharan Africa</td>\n",
       "      <td>Rwanda</td>\n",
       "      <td>Office Supplies</td>\n",
       "      <td>Offline</td>\n",
       "      <td>L</td>\n",
       "      <td>2/1/2013</td>\n",
       "      <td>115456712</td>\n",
       "      <td>2/6/2013</td>\n",
       "      <td>5062</td>\n",
       "      <td>651.21</td>\n",
       "      <td>524.96</td>\n",
       "      <td>3296425.02</td>\n",
       "      <td>2657347.52</td>\n",
       "      <td>639077.50</td>\n",
       "    </tr>\n",
       "    <tr>\n",
       "      <th>5</th>\n",
       "      <td>Australia and Oceania</td>\n",
       "      <td>Solomon Islands</td>\n",
       "      <td>Baby Food</td>\n",
       "      <td>Online</td>\n",
       "      <td>C</td>\n",
       "      <td>2/4/2015</td>\n",
       "      <td>547995746</td>\n",
       "      <td>2/21/2015</td>\n",
       "      <td>2974</td>\n",
       "      <td>255.28</td>\n",
       "      <td>159.42</td>\n",
       "      <td>759202.72</td>\n",
       "      <td>474115.08</td>\n",
       "      <td>285087.64</td>\n",
       "    </tr>\n",
       "  </tbody>\n",
       "</table>\n",
       "</div>"
      ],
      "text/plain": [
       "                              Region                Country        Item_Type  \\\n",
       "0              Australia and Oceania                 Tuvalu        Baby Food   \n",
       "1  Central America and the Caribbean                Grenada           Cereal   \n",
       "2                             Europe                 Russia  Office Supplies   \n",
       "3                 Sub-Saharan Africa  Sao Tome and Principe           Fruits   \n",
       "4                 Sub-Saharan Africa                 Rwanda  Office Supplies   \n",
       "5              Australia and Oceania        Solomon Islands        Baby Food   \n",
       "\n",
       "  Sales_Channel Order_Priority Order_Date   Order_ID  Ship_Date  Units_Sold  \\\n",
       "0       Offline              H  5/28/2010  669165933  6/27/2010        9925   \n",
       "1        Online              C  8/22/2012  963881480  9/15/2012        2804   \n",
       "2       Offline              L   5/2/2014  341417157   5/8/2014        1779   \n",
       "3        Online              C  6/20/2014  514321792   7/5/2014        8102   \n",
       "4       Offline              L   2/1/2013  115456712   2/6/2013        5062   \n",
       "5        Online              C   2/4/2015  547995746  2/21/2015        2974   \n",
       "\n",
       "   Unit_Price  Unit_Cost  Total_Revenue  Total_Cost  Total_Profit  \n",
       "0      255.28     159.42     2533654.00  1582243.50     951410.50  \n",
       "1      205.70     117.11      576782.80   328376.44     248406.36  \n",
       "2      651.21     524.96     1158502.59   933903.84     224598.75  \n",
       "3        9.33       6.92       75591.66    56065.84      19525.82  \n",
       "4      651.21     524.96     3296425.02  2657347.52     639077.50  \n",
       "5      255.28     159.42      759202.72   474115.08     285087.64  "
      ]
     },
     "execution_count": 7,
     "metadata": {},
     "output_type": "execute_result"
    }
   ],
   "source": [
    "df = pd.read_sql_query(\"select * from salesrecords\",conn)\n",
    "df.head(6)"
   ]
  },
  {
   "cell_type": "code",
   "execution_count": 8,
   "id": "be9fe5c2",
   "metadata": {},
   "outputs": [],
   "source": [
    "df['Order_Date']=pd.to_datetime(df['Order_Date'])"
   ]
  },
  {
   "cell_type": "code",
   "execution_count": 9,
   "id": "28413fcc",
   "metadata": {},
   "outputs": [],
   "source": [
    "df['Ship_Date']=pd.to_datetime(df['Ship_Date'])"
   ]
  },
  {
   "cell_type": "code",
   "execution_count": 10,
   "id": "af2c1198",
   "metadata": {},
   "outputs": [
    {
     "data": {
      "text/plain": [
       "Region                    object\n",
       "Country                   object\n",
       "Item_Type                 object\n",
       "Sales_Channel             object\n",
       "Order_Priority            object\n",
       "Order_Date        datetime64[ns]\n",
       "Order_ID                   int64\n",
       "Ship_Date         datetime64[ns]\n",
       "Units_Sold                 int64\n",
       "Unit_Price               float64\n",
       "Unit_Cost                float64\n",
       "Total_Revenue            float64\n",
       "Total_Cost               float64\n",
       "Total_Profit             float64\n",
       "dtype: object"
      ]
     },
     "execution_count": 10,
     "metadata": {},
     "output_type": "execute_result"
    }
   ],
   "source": [
    "df.dtypes"
   ]
  },
  {
   "cell_type": "markdown",
   "id": "8d05ea51",
   "metadata": {},
   "source": []
  },
  {
   "cell_type": "code",
   "execution_count": 11,
   "id": "e5515044",
   "metadata": {},
   "outputs": [
    {
     "name": "stdout",
     "output_type": "stream",
     "text": [
      "    Tot_Revenue\n",
      "0  1.373488e+08\n"
     ]
    }
   ],
   "source": [
    "#What is the total revenue generated by amazon across all regions and countries?\n",
    "total_revenue=pd.read_sql_query(\"select SUM([Total_Revenue]) AS Tot_Revenue from salesrecords\",conn)\n",
    "print(total_revenue)"
   ]
  },
  {
   "cell_type": "code",
   "execution_count": 12,
   "id": "be2736c5",
   "metadata": {},
   "outputs": [
    {
     "name": "stdout",
     "output_type": "stream",
     "text": [
      "Country with highest total profit\n",
      "    Country  Total_Profit\n",
      "0  Pakistan    1719922.04\n"
     ]
    }
   ],
   "source": [
    "#Which country has highest profit ?\n",
    "\n",
    "highest_profit = \"\"\"\n",
    "                 select Country,Total_Profit from salesrecords\n",
    "                 where Total_Profit = (select MAX(Total_Profit) from salesrecords)\n",
    "                 \"\"\"\n",
    "highest_profit = pd.read_sql_query(highest_profit,conn) \n",
    "print(\"Country with highest total profit\")\n",
    "print(highest_profit)"
   ]
  },
  {
   "cell_type": "code",
   "execution_count": 13,
   "id": "5a826dfc",
   "metadata": {
    "scrolled": true
   },
   "outputs": [
    {
     "name": "stdout",
     "output_type": "stream",
     "text": [
      "Country with lowest total profit\n",
      "  Country  Total_Profit\n",
      "0  Kuwait       1258.02\n"
     ]
    }
   ],
   "source": [
    "#Which country has lowest profit ?\n",
    "\n",
    "lowest_profit= \"\"\"\n",
    "               select Country,Total_Profit from salesrecords\n",
    "               where Total_Profit= (select MIN(Total_Profit) from salesrecords)\n",
    "               \"\"\"\n",
    "lowest_profit=pd.read_sql_query(lowest_profit,conn)\n",
    "print(\"Country with lowest total profit\")\n",
    "print(lowest_profit)"
   ]
  },
  {
   "cell_type": "code",
   "execution_count": 14,
   "id": "1a6d7483",
   "metadata": {},
   "outputs": [
    {
     "data": {
      "image/png": "[encoded data removed]",
      "text/plain": [
       "<Figure size 432x288 with 1 Axes>"
      ]
     },
     "metadata": {
      "needs_background": "light"
     },
     "output_type": "display_data"
    }
   ],
   "source": [
    "# Highest and lowest profit showing charts\n",
    "\n",
    "bars= plt.bar(highest_profit[\"Country\"],highest_profit[\"Total_Profit\"])\n",
    "bars= plt.bar(lowest_profit[\"Country\"],lowest_profit[\"Total_Profit\"])\n",
    "plt.yscale(\"log\")\n",
    "plt.xlabel(\"Country\")\n",
    "plt.ylabel(\"Total_Profit\")\n",
    "plt.title(\"Total profit by country\")\n",
    "plt.show()"
   ]
  },
  {
   "cell_type": "code",
   "execution_count": 15,
   "id": "86ae4eac",
   "metadata": {},
   "outputs": [
    {
     "data": {
      "text/html": [
       "<div>\n",
       "<style scoped>\n",
       "    .dataframe tbody tr th:only-of-type {\n",
       "        vertical-align: middle;\n",
       "    }\n",
       "\n",
       "    .dataframe tbody tr th {\n",
       "        vertical-align: top;\n",
       "    }\n",
       "\n",
       "    .dataframe thead th {\n",
       "        text-align: right;\n",
       "    }\n",
       "</style>\n",
       "<table border=\"1\" class=\"dataframe\">\n",
       "  <thead>\n",
       "    <tr style=\"text-align: right;\">\n",
       "      <th></th>\n",
       "      <th>Region</th>\n",
       "      <th>average_unitprice</th>\n",
       "      <th>average_unitcost</th>\n",
       "    </tr>\n",
       "  </thead>\n",
       "  <tbody>\n",
       "    <tr>\n",
       "      <th>0</th>\n",
       "      <td>Asia</td>\n",
       "      <td>335.81</td>\n",
       "      <td>239.59</td>\n",
       "    </tr>\n",
       "    <tr>\n",
       "      <th>1</th>\n",
       "      <td>Australia and Oceania</td>\n",
       "      <td>222.67</td>\n",
       "      <td>154.74</td>\n",
       "    </tr>\n",
       "    <tr>\n",
       "      <th>2</th>\n",
       "      <td>Central America and the Caribbean</td>\n",
       "      <td>243.17</td>\n",
       "      <td>157.82</td>\n",
       "    </tr>\n",
       "    <tr>\n",
       "      <th>3</th>\n",
       "      <td>Europe</td>\n",
       "      <td>328.98</td>\n",
       "      <td>223.17</td>\n",
       "    </tr>\n",
       "    <tr>\n",
       "      <th>4</th>\n",
       "      <td>Middle East and North Africa</td>\n",
       "      <td>241.51</td>\n",
       "      <td>152.45</td>\n",
       "    </tr>\n",
       "    <tr>\n",
       "      <th>5</th>\n",
       "      <td>North America</td>\n",
       "      <td>277.24</td>\n",
       "      <td>205.29</td>\n",
       "    </tr>\n",
       "    <tr>\n",
       "      <th>6</th>\n",
       "      <td>Sub-Saharan Africa</td>\n",
       "      <td>259.62</td>\n",
       "      <td>183.68</td>\n",
       "    </tr>\n",
       "  </tbody>\n",
       "</table>\n",
       "</div>"
      ],
      "text/plain": [
       "                              Region  average_unitprice  average_unitcost\n",
       "0                               Asia             335.81            239.59\n",
       "1              Australia and Oceania             222.67            154.74\n",
       "2  Central America and the Caribbean             243.17            157.82\n",
       "3                             Europe             328.98            223.17\n",
       "4       Middle East and North Africa             241.51            152.45\n",
       "5                      North America             277.24            205.29\n",
       "6                 Sub-Saharan Africa             259.62            183.68"
      ]
     },
     "execution_count": 15,
     "metadata": {},
     "output_type": "execute_result"
    }
   ],
   "source": [
    "# what is the average unit price and unit cost of items sold in each region\n",
    "avg_price_cost = \"\"\"\n",
    "                   select Region,ROUND(AVG(Unit_Price),2)AS average_unitprice,ROUND(AVG(Unit_Cost),2)AS average_unitcost from salesrecords\n",
    "                   group by Region\n",
    "                   \"\"\"\n",
    "avg_price_cost = pd.read_sql_query(avg_price_cost, conn)\n",
    "avg_price_cost"
   ]
  },
  {
   "cell_type": "code",
   "execution_count": 16,
   "id": "d99db0d4",
   "metadata": {},
   "outputs": [
    {
     "data": {
      "image/png": "[encoded data removed]",
      "text/plain": [
       "<Figure size 864x432 with 1 Axes>"
      ]
     },
     "metadata": {
      "needs_background": "light"
     },
     "output_type": "display_data"
    }
   ],
   "source": [
    "#average price and cost chart\n",
    "plt.figure(figsize=(12,6))\n",
    "plt.bar(avg_price_cost['Region'],avg_price_cost['average_unitprice'],label='avg_unit_price',color='blue')\n",
    "plt.bar(avg_price_cost['Region'],avg_price_cost['average_unitcost'],label='avg_unit_cost',color='green')\n",
    "plt.xlabel('Region')\n",
    "plt.ylabel('Average price/cost')\n",
    "plt.title('Average unit price and unit cost by Region')\n",
    "plt.xticks(rotation=90)\n",
    "plt.legend()\n",
    "plt.show()"
   ]
  },
  {
   "cell_type": "code",
   "execution_count": 17,
   "id": "99d08fe4",
   "metadata": {},
   "outputs": [
    {
     "data": {
      "text/html": [
       "<div>\n",
       "<style scoped>\n",
       "    .dataframe tbody tr th:only-of-type {\n",
       "        vertical-align: middle;\n",
       "    }\n",
       "\n",
       "    .dataframe tbody tr th {\n",
       "        vertical-align: top;\n",
       "    }\n",
       "\n",
       "    .dataframe thead th {\n",
       "        text-align: right;\n",
       "    }\n",
       "</style>\n",
       "<table border=\"1\" class=\"dataframe\">\n",
       "  <thead>\n",
       "    <tr style=\"text-align: right;\">\n",
       "      <th></th>\n",
       "      <th>Item_Type</th>\n",
       "    </tr>\n",
       "  </thead>\n",
       "  <tbody>\n",
       "    <tr>\n",
       "      <th>0</th>\n",
       "      <td>Baby Food</td>\n",
       "    </tr>\n",
       "  </tbody>\n",
       "</table>\n",
       "</div>"
      ],
      "text/plain": [
       "   Item_Type\n",
       "0  Baby Food"
      ]
     },
     "execution_count": 17,
     "metadata": {},
     "output_type": "execute_result"
    }
   ],
   "source": [
    "#which item type has highest sale volume overall?\n",
    "highest_sale= \"\"\"\n",
    "              select Item_Type from salesrecords\n",
    "              where Units_sold = (select MAX(Units_sold) from salesrecords)\n",
    "             \"\"\"\n",
    "highest_sale= pd.read_sql_query(highest_sale, conn)\n",
    "highest_sale"
   ]
  },
  {
   "cell_type": "code",
   "execution_count": 18,
   "id": "fae6d1b0",
   "metadata": {},
   "outputs": [
    {
     "data": {
      "text/html": [
       "<div>\n",
       "<style scoped>\n",
       "    .dataframe tbody tr th:only-of-type {\n",
       "        vertical-align: middle;\n",
       "    }\n",
       "\n",
       "    .dataframe tbody tr th {\n",
       "        vertical-align: top;\n",
       "    }\n",
       "\n",
       "    .dataframe thead th {\n",
       "        text-align: right;\n",
       "    }\n",
       "</style>\n",
       "<table border=\"1\" class=\"dataframe\">\n",
       "  <thead>\n",
       "    <tr style=\"text-align: right;\">\n",
       "      <th></th>\n",
       "      <th>Sales_Channel</th>\n",
       "      <th>total_orders</th>\n",
       "    </tr>\n",
       "  </thead>\n",
       "  <tbody>\n",
       "    <tr>\n",
       "      <th>0</th>\n",
       "      <td>Offline</td>\n",
       "      <td>50</td>\n",
       "    </tr>\n",
       "    <tr>\n",
       "      <th>1</th>\n",
       "      <td>Online</td>\n",
       "      <td>50</td>\n",
       "    </tr>\n",
       "  </tbody>\n",
       "</table>\n",
       "</div>"
      ],
      "text/plain": [
       "  Sales_Channel  total_orders\n",
       "0       Offline            50\n",
       "1        Online            50"
      ]
     },
     "execution_count": 18,
     "metadata": {},
     "output_type": "execute_result"
    }
   ],
   "source": [
    "#How many orders in each sales channels and which channel has more orders?\n",
    "\n",
    "query1=  \"\"\"\n",
    "     select Sales_Channel,COUNT(Sales_Channel)AS total_orders from salesrecords\n",
    "     group by Sales_Channel\n",
    "     order by total_orders DESC\n",
    "     \"\"\"\n",
    "query1 = pd.read_sql_query(query1,conn)\n",
    "query1"
   ]
  },
  {
   "cell_type": "code",
   "execution_count": 19,
   "id": "b63e5cd7",
   "metadata": {},
   "outputs": [
    {
     "data": {
      "image/png": "[encoded data removed]",
      "text/plain": [
       "<Figure size 432x288 with 1 Axes>"
      ]
     },
     "metadata": {
      "needs_background": "light"
     },
     "output_type": "display_data"
    }
   ],
   "source": [
    "# SALES CHANNEL ORDER CHART\n",
    "\n",
    "plt.bar(query1['Sales_Channel'],query1['total_orders'])\n",
    "plt.xlabel('sales_channel')\n",
    "plt.ylabel('total_orders')\n",
    "plt.title(' Total orders by sales_channel')\n",
    "plt.show()"
   ]
  },
  {
   "cell_type": "code",
   "execution_count": 20,
   "id": "df332bc9",
   "metadata": {},
   "outputs": [
    {
     "data": {
      "text/html": [
       "<div>\n",
       "<style scoped>\n",
       "    .dataframe tbody tr th:only-of-type {\n",
       "        vertical-align: middle;\n",
       "    }\n",
       "\n",
       "    .dataframe tbody tr th {\n",
       "        vertical-align: top;\n",
       "    }\n",
       "\n",
       "    .dataframe thead th {\n",
       "        text-align: right;\n",
       "    }\n",
       "</style>\n",
       "<table border=\"1\" class=\"dataframe\">\n",
       "  <thead>\n",
       "    <tr style=\"text-align: right;\">\n",
       "      <th></th>\n",
       "      <th>Region</th>\n",
       "      <th>Order_Priority</th>\n",
       "      <th>priority_count</th>\n",
       "    </tr>\n",
       "  </thead>\n",
       "  <tbody>\n",
       "    <tr>\n",
       "      <th>0</th>\n",
       "      <td>Asia</td>\n",
       "      <td>C</td>\n",
       "      <td>2</td>\n",
       "    </tr>\n",
       "    <tr>\n",
       "      <th>1</th>\n",
       "      <td>Australia and Oceania</td>\n",
       "      <td>C</td>\n",
       "      <td>4</td>\n",
       "    </tr>\n",
       "    <tr>\n",
       "      <th>2</th>\n",
       "      <td>Central America and the Caribbean</td>\n",
       "      <td>C</td>\n",
       "      <td>2</td>\n",
       "    </tr>\n",
       "    <tr>\n",
       "      <th>3</th>\n",
       "      <td>Europe</td>\n",
       "      <td>C</td>\n",
       "      <td>5</td>\n",
       "    </tr>\n",
       "    <tr>\n",
       "      <th>4</th>\n",
       "      <td>North America</td>\n",
       "      <td>C</td>\n",
       "      <td>1</td>\n",
       "    </tr>\n",
       "    <tr>\n",
       "      <th>5</th>\n",
       "      <td>Sub-Saharan Africa</td>\n",
       "      <td>C</td>\n",
       "      <td>8</td>\n",
       "    </tr>\n",
       "    <tr>\n",
       "      <th>6</th>\n",
       "      <td>Asia</td>\n",
       "      <td>H</td>\n",
       "      <td>3</td>\n",
       "    </tr>\n",
       "    <tr>\n",
       "      <th>7</th>\n",
       "      <td>Australia and Oceania</td>\n",
       "      <td>H</td>\n",
       "      <td>5</td>\n",
       "    </tr>\n",
       "    <tr>\n",
       "      <th>8</th>\n",
       "      <td>Central America and the Caribbean</td>\n",
       "      <td>H</td>\n",
       "      <td>2</td>\n",
       "    </tr>\n",
       "    <tr>\n",
       "      <th>9</th>\n",
       "      <td>Europe</td>\n",
       "      <td>H</td>\n",
       "      <td>7</td>\n",
       "    </tr>\n",
       "    <tr>\n",
       "      <th>10</th>\n",
       "      <td>Middle East and North Africa</td>\n",
       "      <td>H</td>\n",
       "      <td>2</td>\n",
       "    </tr>\n",
       "    <tr>\n",
       "      <th>11</th>\n",
       "      <td>Sub-Saharan Africa</td>\n",
       "      <td>H</td>\n",
       "      <td>11</td>\n",
       "    </tr>\n",
       "    <tr>\n",
       "      <th>12</th>\n",
       "      <td>Asia</td>\n",
       "      <td>L</td>\n",
       "      <td>4</td>\n",
       "    </tr>\n",
       "    <tr>\n",
       "      <th>13</th>\n",
       "      <td>Australia and Oceania</td>\n",
       "      <td>L</td>\n",
       "      <td>1</td>\n",
       "    </tr>\n",
       "    <tr>\n",
       "      <th>14</th>\n",
       "      <td>Central America and the Caribbean</td>\n",
       "      <td>L</td>\n",
       "      <td>2</td>\n",
       "    </tr>\n",
       "    <tr>\n",
       "      <th>15</th>\n",
       "      <td>Europe</td>\n",
       "      <td>L</td>\n",
       "      <td>6</td>\n",
       "    </tr>\n",
       "    <tr>\n",
       "      <th>16</th>\n",
       "      <td>Middle East and North Africa</td>\n",
       "      <td>L</td>\n",
       "      <td>4</td>\n",
       "    </tr>\n",
       "    <tr>\n",
       "      <th>17</th>\n",
       "      <td>North America</td>\n",
       "      <td>L</td>\n",
       "      <td>1</td>\n",
       "    </tr>\n",
       "    <tr>\n",
       "      <th>18</th>\n",
       "      <td>Sub-Saharan Africa</td>\n",
       "      <td>L</td>\n",
       "      <td>9</td>\n",
       "    </tr>\n",
       "    <tr>\n",
       "      <th>19</th>\n",
       "      <td>Asia</td>\n",
       "      <td>M</td>\n",
       "      <td>2</td>\n",
       "    </tr>\n",
       "    <tr>\n",
       "      <th>20</th>\n",
       "      <td>Australia and Oceania</td>\n",
       "      <td>M</td>\n",
       "      <td>1</td>\n",
       "    </tr>\n",
       "    <tr>\n",
       "      <th>21</th>\n",
       "      <td>Central America and the Caribbean</td>\n",
       "      <td>M</td>\n",
       "      <td>1</td>\n",
       "    </tr>\n",
       "    <tr>\n",
       "      <th>22</th>\n",
       "      <td>Europe</td>\n",
       "      <td>M</td>\n",
       "      <td>4</td>\n",
       "    </tr>\n",
       "    <tr>\n",
       "      <th>23</th>\n",
       "      <td>Middle East and North Africa</td>\n",
       "      <td>M</td>\n",
       "      <td>4</td>\n",
       "    </tr>\n",
       "    <tr>\n",
       "      <th>24</th>\n",
       "      <td>North America</td>\n",
       "      <td>M</td>\n",
       "      <td>1</td>\n",
       "    </tr>\n",
       "    <tr>\n",
       "      <th>25</th>\n",
       "      <td>Sub-Saharan Africa</td>\n",
       "      <td>M</td>\n",
       "      <td>8</td>\n",
       "    </tr>\n",
       "  </tbody>\n",
       "</table>\n",
       "</div>"
      ],
      "text/plain": [
       "                               Region Order_Priority  priority_count\n",
       "0                                Asia              C               2\n",
       "1               Australia and Oceania              C               4\n",
       "2   Central America and the Caribbean              C               2\n",
       "3                              Europe              C               5\n",
       "4                       North America              C               1\n",
       "5                  Sub-Saharan Africa              C               8\n",
       "6                                Asia              H               3\n",
       "7               Australia and Oceania              H               5\n",
       "8   Central America and the Caribbean              H               2\n",
       "9                              Europe              H               7\n",
       "10       Middle East and North Africa              H               2\n",
       "11                 Sub-Saharan Africa              H              11\n",
       "12                               Asia              L               4\n",
       "13              Australia and Oceania              L               1\n",
       "14  Central America and the Caribbean              L               2\n",
       "15                             Europe              L               6\n",
       "16       Middle East and North Africa              L               4\n",
       "17                      North America              L               1\n",
       "18                 Sub-Saharan Africa              L               9\n",
       "19                               Asia              M               2\n",
       "20              Australia and Oceania              M               1\n",
       "21  Central America and the Caribbean              M               1\n",
       "22                             Europe              M               4\n",
       "23       Middle East and North Africa              M               4\n",
       "24                      North America              M               1\n",
       "25                 Sub-Saharan Africa              M               8"
      ]
     },
     "execution_count": 20,
     "metadata": {},
     "output_type": "execute_result"
    }
   ],
   "source": [
    "#What is the distribution of order priority across all regions?\n",
    "\n",
    "ord_pri= \"\"\"select Region,Order_Priority,count(*) As priority_count from salesrecords\n",
    "          group by Region,Order_Priority\n",
    "          \"\"\"\n",
    "ord_pri= pd.read_sql_query(ord_pri,conn)\n",
    "ord_pri"
   ]
  },
  {
   "cell_type": "code",
   "execution_count": 21,
   "id": "325b9859",
   "metadata": {},
   "outputs": [
    {
     "data": {
      "image/png": "[encoded data removed]",
      "text/plain": [
       "<Figure size 864x432 with 1 Axes>"
      ]
     },
     "metadata": {
      "needs_background": "light"
     },
     "output_type": "display_data"
    }
   ],
   "source": [
    "#Distribution of order priority chart\n",
    "\n",
    "plt.figure(figsize=(12,6))\n",
    "plt.bar(ord_pri['Region']+ '-' + ord_pri['Order_Priority'],ord_pri['priority_count'])\n",
    "plt.xlabel('Region-Order_priority')\n",
    "plt.ylabel('Priority_count')\n",
    "plt.title('prioritycount by Region-orderpriority')\n",
    "plt.xticks(rotation=90)\n",
    "plt.grid(axis='y')\n",
    "plt.show()"
   ]
  },
  {
   "cell_type": "code",
   "execution_count": 22,
   "id": "32a55efe",
   "metadata": {},
   "outputs": [
    {
     "data": {
      "text/html": [
       "<div>\n",
       "<style scoped>\n",
       "    .dataframe tbody tr th:only-of-type {\n",
       "        vertical-align: middle;\n",
       "    }\n",
       "\n",
       "    .dataframe tbody tr th {\n",
       "        vertical-align: top;\n",
       "    }\n",
       "\n",
       "    .dataframe thead th {\n",
       "        text-align: right;\n",
       "    }\n",
       "</style>\n",
       "<table border=\"1\" class=\"dataframe\">\n",
       "  <thead>\n",
       "    <tr style=\"text-align: right;\">\n",
       "      <th></th>\n",
       "      <th>Country</th>\n",
       "      <th>avg_shipping_time</th>\n",
       "    </tr>\n",
       "  </thead>\n",
       "  <tbody>\n",
       "    <tr>\n",
       "      <th>0</th>\n",
       "      <td>Albania</td>\n",
       "      <td>-44</td>\n",
       "    </tr>\n",
       "    <tr>\n",
       "      <th>1</th>\n",
       "      <td>Angola</td>\n",
       "      <td>-4</td>\n",
       "    </tr>\n",
       "    <tr>\n",
       "      <th>2</th>\n",
       "      <td>Australia</td>\n",
       "      <td>-18</td>\n",
       "    </tr>\n",
       "    <tr>\n",
       "      <th>3</th>\n",
       "      <td>Austria</td>\n",
       "      <td>-7</td>\n",
       "    </tr>\n",
       "    <tr>\n",
       "      <th>4</th>\n",
       "      <td>Azerbaijan</td>\n",
       "      <td>-30</td>\n",
       "    </tr>\n",
       "    <tr>\n",
       "      <th>...</th>\n",
       "      <td>...</td>\n",
       "      <td>...</td>\n",
       "    </tr>\n",
       "    <tr>\n",
       "      <th>71</th>\n",
       "      <td>The Gambia</td>\n",
       "      <td>-17</td>\n",
       "    </tr>\n",
       "    <tr>\n",
       "      <th>72</th>\n",
       "      <td>Turkmenistan</td>\n",
       "      <td>-24</td>\n",
       "    </tr>\n",
       "    <tr>\n",
       "      <th>73</th>\n",
       "      <td>Tuvalu</td>\n",
       "      <td>-30</td>\n",
       "    </tr>\n",
       "    <tr>\n",
       "      <th>74</th>\n",
       "      <td>United Kingdom</td>\n",
       "      <td>-40</td>\n",
       "    </tr>\n",
       "    <tr>\n",
       "      <th>75</th>\n",
       "      <td>Zambia</td>\n",
       "      <td>-1</td>\n",
       "    </tr>\n",
       "  </tbody>\n",
       "</table>\n",
       "<p>76 rows × 2 columns</p>\n",
       "</div>"
      ],
      "text/plain": [
       "           Country  avg_shipping_time\n",
       "0          Albania                -44\n",
       "1           Angola                 -4\n",
       "2        Australia                -18\n",
       "3          Austria                 -7\n",
       "4       Azerbaijan                -30\n",
       "..             ...                ...\n",
       "71      The Gambia                -17\n",
       "72    Turkmenistan                -24\n",
       "73          Tuvalu                -30\n",
       "74  United Kingdom                -40\n",
       "75          Zambia                 -1\n",
       "\n",
       "[76 rows x 2 columns]"
      ]
     },
     "execution_count": 22,
     "metadata": {},
     "output_type": "execute_result"
    }
   ],
   "source": [
    "# What is the average shipping time(in days) for orders from each country?\n",
    "\n",
    "avg_ship_time= \"\"\"select Country,AVG(DATEDIFF(day,Ship_Date,Order_Date))AS avg_shipping_time from salesrecords\n",
    "                  group by Country\n",
    "              \"\"\"\n",
    "avg_ship_time= pd.read_sql_query(avg_ship_time, conn)\n",
    "avg_ship_time\n"
   ]
  },
  {
   "cell_type": "code",
   "execution_count": 23,
   "id": "6d4697b5",
   "metadata": {},
   "outputs": [
    {
     "data": {
      "text/html": [
       "<div>\n",
       "<style scoped>\n",
       "    .dataframe tbody tr th:only-of-type {\n",
       "        vertical-align: middle;\n",
       "    }\n",
       "\n",
       "    .dataframe tbody tr th {\n",
       "        vertical-align: top;\n",
       "    }\n",
       "\n",
       "    .dataframe thead th {\n",
       "        text-align: right;\n",
       "    }\n",
       "</style>\n",
       "<table border=\"1\" class=\"dataframe\">\n",
       "  <thead>\n",
       "    <tr style=\"text-align: right;\">\n",
       "      <th></th>\n",
       "      <th>Order_Priority</th>\n",
       "      <th>avg_total_profit</th>\n",
       "    </tr>\n",
       "  </thead>\n",
       "  <tbody>\n",
       "    <tr>\n",
       "      <th>0</th>\n",
       "      <td>C</td>\n",
       "      <td>306742.20</td>\n",
       "    </tr>\n",
       "    <tr>\n",
       "      <th>1</th>\n",
       "      <td>H</td>\n",
       "      <td>563053.32</td>\n",
       "    </tr>\n",
       "    <tr>\n",
       "      <th>2</th>\n",
       "      <td>L</td>\n",
       "      <td>402175.11</td>\n",
       "    </tr>\n",
       "    <tr>\n",
       "      <th>3</th>\n",
       "      <td>M</td>\n",
       "      <td>460454.40</td>\n",
       "    </tr>\n",
       "  </tbody>\n",
       "</table>\n",
       "</div>"
      ],
      "text/plain": [
       "  Order_Priority  avg_total_profit\n",
       "0              C         306742.20\n",
       "1              H         563053.32\n",
       "2              L         402175.11\n",
       "3              M         460454.40"
      ]
     },
     "execution_count": 23,
     "metadata": {},
     "output_type": "execute_result"
    }
   ],
   "source": [
    "#How does average total profit vary across different order priorities?\n",
    "\n",
    "avg_tot_pro= \"\"\"\n",
    "       select Order_Priority,ROUND(AVG(Total_Profit),2) AS avg_total_profit from salesrecords\n",
    "       group by Order_Priority\n",
    "       \"\"\"\n",
    "avg_tot_pro= pd.read_sql_query(avg_tot_pro, conn)\n",
    "avg_tot_pro"
   ]
  },
  {
   "cell_type": "code",
   "execution_count": 24,
   "id": "ff30d880",
   "metadata": {},
   "outputs": [
    {
     "data": {
      "image/png": "[encoded data removed]",
      "text/plain": [
       "<Figure size 864x432 with 1 Axes>"
      ]
     },
     "metadata": {
      "needs_background": "light"
     },
     "output_type": "display_data"
    }
   ],
   "source": [
    "# averagetotal profit vs orderpriority\n",
    "\n",
    "plt.figure(figsize=(12,6))\n",
    "bar1=plt.bar(avg_tot_pro['Order_Priority'],avg_tot_pro['avg_total_profit'])\n",
    "plt.xlabel('Orderpriority')\n",
    "plt.ylabel('AvgTotalprofit')\n",
    "plt.title('Averagetotal profit vs orderpriority')\n",
    "plt.bar_label(bar1,label_type='center',fmt='%.2f')\n",
    "plt.show()"
   ]
  },
  {
   "cell_type": "code",
   "execution_count": 42,
   "id": "6f703bd9",
   "metadata": {},
   "outputs": [
    {
     "data": {
      "text/html": [
       "<div>\n",
       "<style scoped>\n",
       "    .dataframe tbody tr th:only-of-type {\n",
       "        vertical-align: middle;\n",
       "    }\n",
       "\n",
       "    .dataframe tbody tr th {\n",
       "        vertical-align: top;\n",
       "    }\n",
       "\n",
       "    .dataframe thead th {\n",
       "        text-align: right;\n",
       "    }\n",
       "</style>\n",
       "<table border=\"1\" class=\"dataframe\">\n",
       "  <thead>\n",
       "    <tr style=\"text-align: right;\">\n",
       "      <th></th>\n",
       "      <th>max_revenue_month</th>\n",
       "      <th>Total_Revenue</th>\n",
       "    </tr>\n",
       "  </thead>\n",
       "  <tbody>\n",
       "    <tr>\n",
       "      <th>0</th>\n",
       "      <td>2</td>\n",
       "      <td>5997054.98</td>\n",
       "    </tr>\n",
       "  </tbody>\n",
       "</table>\n",
       "</div>"
      ],
      "text/plain": [
       "   max_revenue_month  Total_Revenue\n",
       "0                  2     5997054.98"
      ]
     },
     "execution_count": 42,
     "metadata": {},
     "output_type": "execute_result"
    }
   ],
   "source": [
    "#which month has highest revenue\n",
    "\n",
    "highest_revenue= \"\"\"\n",
    "                 select month(Order_Date) AS max_revenue_month,Total_Revenue from salesrecords\n",
    "                 where Total_Revenue= (select (MAX(Total_Revenue)) from salesrecords)\n",
    "                 \"\"\"\n",
    "highest_revenue= pd.read_sql_query(highest_revenue, conn)\n",
    "highest_revenue"
   ]
  },
  {
   "cell_type": "code",
   "execution_count": 44,
   "id": "e88ed3ed",
   "metadata": {},
   "outputs": [
    {
     "data": {
      "text/html": [
       "<div>\n",
       "<style scoped>\n",
       "    .dataframe tbody tr th:only-of-type {\n",
       "        vertical-align: middle;\n",
       "    }\n",
       "\n",
       "    .dataframe tbody tr th {\n",
       "        vertical-align: top;\n",
       "    }\n",
       "\n",
       "    .dataframe thead th {\n",
       "        text-align: right;\n",
       "    }\n",
       "</style>\n",
       "<table border=\"1\" class=\"dataframe\">\n",
       "  <thead>\n",
       "    <tr style=\"text-align: right;\">\n",
       "      <th></th>\n",
       "      <th>min_revenue_month</th>\n",
       "      <th>Total_Revenue</th>\n",
       "    </tr>\n",
       "  </thead>\n",
       "  <tbody>\n",
       "    <tr>\n",
       "      <th>0</th>\n",
       "      <td>4</td>\n",
       "      <td>4870.26</td>\n",
       "    </tr>\n",
       "  </tbody>\n",
       "</table>\n",
       "</div>"
      ],
      "text/plain": [
       "   min_revenue_month  Total_Revenue\n",
       "0                  4        4870.26"
      ]
     },
     "execution_count": 44,
     "metadata": {},
     "output_type": "execute_result"
    }
   ],
   "source": [
    "#which month has lowest revenue\n",
    "\n",
    "lowest_revenue= \"\"\"\n",
    "               select month(Order_Date) AS min_revenue_month,Total_Revenue from salesrecords\n",
    "               where Total_Revenue= (select (MIN(Total_Revenue)) from salesrecords)\n",
    "               \"\"\"\n",
    "lowest_revenue = pd.read_sql_query(lowest_revenue, conn)\n",
    "lowest_revenue\n",
    "\n"
   ]
  },
  {
   "cell_type": "code",
   "execution_count": 77,
   "id": "1dd8c39b",
   "metadata": {},
   "outputs": [
    {
     "data": {
      "image/png": "[encoded data removed]",
      "text/plain": [
       "<Figure size 864x432 with 1 Axes>"
      ]
     },
     "metadata": {
      "needs_background": "light"
     },
     "output_type": "display_data"
    }
   ],
   "source": [
    "# with chart\n",
    "plt.figure(figsize=(12,6))\n",
    "bars=plt.bar(highest_revenue['max_revenue_month'],highest_revenue['Total_Revenue'])\n",
    "bars=plt.bar(lowest_revenue['min_revenue_month'],lowest_revenue['Total_Revenue']) \n",
    "plt.yscale('log')\n",
    "plt.bar_label(bars, label_type= 'center',fmt='%.2f')\n",
    "plt.xlabel('month')\n",
    "plt.ylabel('Total_Revenue')\n",
    "plt.title('TotalRevenue by month')\n",
    "plt.show()"
   ]
  },
  {
   "cell_type": "code",
   "execution_count": null,
   "id": "3822eea0",
   "metadata": {},
   "outputs": [],
   "source": []
  },
  {
   "cell_type": "code",
   "execution_count": null,
   "id": "f633e2fb",
   "metadata": {},
   "outputs": [],
   "source": []
  },
  {
   "cell_type": "code",
   "execution_count": null,
   "id": "ab0de6c2",
   "metadata": {},
   "outputs": [],
   "source": []
  },
  {
   "cell_type": "code",
   "execution_count": null,
   "id": "957307ea",
   "metadata": {},
   "outputs": [],
   "source": []
  },
  {
   "cell_type": "code",
   "execution_count": null,
   "id": "3619445e",
   "metadata": {},
   "outputs": [],
   "source": []
  }
 ],
 "metadata": {
  "kernelspec": {
   "display_name": "Python 3 (ipykernel)",
   "language": "python",
   "name": "python3"
  },
  "language_info": {
   "codemirror_mode": {
    "name": "ipython",
    "version": 3
   },
   "file_extension": ".py",
   "mimetype": "text/x-python",
   "name": "python",
   "nbconvert_exporter": "python",
   "pygments_lexer": "ipython3",
   "version": "3.10.2"
  }
 },
 "nbformat": 4,
 "nbformat_minor": 5
}
